{
 "cells": [
  {
   "cell_type": "markdown",
   "metadata": {},
   "source": [
    "# Encoding"
   ]
  },
  {
   "cell_type": "code",
   "execution_count": 38,
   "metadata": {
    "collapsed": true
   },
   "outputs": [],
   "source": [
    "import numpy as np\n",
    "import time"
   ]
  },
  {
   "cell_type": "code",
   "execution_count": 39,
   "metadata": {
    "collapsed": false
   },
   "outputs": [
    {
     "name": "stdout",
     "output_type": "stream",
     "text": [
      "[ 73 281 124  31  99 287 154 193  98 287  26   3 265 177 264  92 300   1\n",
      "  29 116  50  60  36   4 222  24  79  94 136  53 105 105 230  60]\n",
      "1492929989.86\n"
     ]
    }
   ],
   "source": [
    "# Read in message\n",
    "Message = !cat Message.txt\n",
    "\n",
    "# Create key based on timestamp\n",
    "KEY = time.time()\n",
    "np.random.seed(int(KEY))\n",
    "\n",
    "# Generate vector of random integers\n",
    "Encoder = np.random.random_integers(300, size=len(Message[0]))"
   ]
  },
  {
   "cell_type": "code",
   "execution_count": 51,
   "metadata": {
    "collapsed": false
   },
   "outputs": [
    {
     "name": "stdout",
     "output_type": "stream",
     "text": [
      "[4964, 28381, 12028, 3534, 3168, 19516, 16170, 18721, 11172, 34727, 1144, 96, 30740, 18408, 27720, 10580, 9600, 105, 3335, 3712, 5450, 7260, 1152, 408, 23310, 2736, 9085, 10904, 4352, 5353, 11550, 12180, 26220, 7260]\n"
     ]
    }
   ],
   "source": [
    "# Map message to encoded array\n",
    "M = []\n",
    "for i in range(len(Message[0])):\n",
    "    M.append(ord(Message[0][i])*Encoder[i])"
   ]
  },
  {
   "cell_type": "code",
   "execution_count": 94,
   "metadata": {
    "collapsed": false
   },
   "outputs": [],
   "source": [
    "# Create or overwrite the file with the message\n",
    "with open('ENCODED.txt', 'w') as e:\n",
    "    for m in M:\n",
    "        e.write(str(m)+\" \")\n",
    "\n",
    "# Create or overwrite the file with the key\n",
    "with open('KEY.txt', 'w') as f:\n",
    "    f.write(str(KEY))"
   ]
  },
  {
   "cell_type": "markdown",
   "metadata": {},
   "source": [
    "# Decoding"
   ]
  },
  {
   "cell_type": "code",
   "execution_count": 109,
   "metadata": {
    "collapsed": true
   },
   "outputs": [],
   "source": [
    "import numpy as np\n",
    "import time\n",
    "import csv"
   ]
  },
  {
   "cell_type": "code",
   "execution_count": 107,
   "metadata": {
    "collapsed": false
   },
   "outputs": [],
   "source": [
    "KEY_V = ! cat KEY.txt"
   ]
  },
  {
   "cell_type": "code",
   "execution_count": 110,
   "metadata": {
    "collapsed": false
   },
   "outputs": [],
   "source": [
    "M_to_Decode = list(csv.reader(open('ENCODED.txt', 'rb'), delimiter=' '))"
   ]
  },
  {
   "cell_type": "code",
   "execution_count": 121,
   "metadata": {
    "collapsed": false
   },
   "outputs": [],
   "source": [
    "# Decode\n",
    "DECODED = []\n",
    "\n",
    "np.random.seed(int(float(KEY_V[0])))\n",
    "\n",
    "Decoder = np.random.random_integers(300, size=len(M_to_Decode[0]))\n",
    "\n",
    "for i in range(len(M_to_Decode[0])-1):\n",
    "    DECODED.append(chr(int(M_to_Decode[0][i])/Decoder[i]))"
   ]
  },
  {
   "cell_type": "code",
   "execution_count": 124,
   "metadata": {
    "collapsed": false
   },
   "outputs": [],
   "source": [
    "# Create or overwrite the file with the key\n",
    "with open('DECODED.txt', 'w') as d:\n",
    "    for q in DECODED:\n",
    "        d.write(str(q))"
   ]
  },
  {
   "cell_type": "code",
   "execution_count": 125,
   "metadata": {
    "collapsed": false
   },
   "outputs": [
    {
     "name": "stdout",
     "output_type": "stream",
     "text": [
      "Dear Diary, this is my first entry\n"
     ]
    }
   ],
   "source": [
    "! cat DECODED.txt"
   ]
  },
  {
   "cell_type": "code",
   "execution_count": null,
   "metadata": {
    "collapsed": false
   },
   "outputs": [],
   "source": []
  },
  {
   "cell_type": "code",
   "execution_count": null,
   "metadata": {
    "collapsed": true
   },
   "outputs": [],
   "source": []
  }
 ],
 "metadata": {
  "kernelspec": {
   "display_name": "Python 2",
   "language": "python",
   "name": "python2"
  },
  "language_info": {
   "codemirror_mode": {
    "name": "ipython",
    "version": 2
   },
   "file_extension": ".py",
   "mimetype": "text/x-python",
   "name": "python",
   "nbconvert_exporter": "python",
   "pygments_lexer": "ipython2",
   "version": "2.7.11"
  }
 },
 "nbformat": 4,
 "nbformat_minor": 0
}
